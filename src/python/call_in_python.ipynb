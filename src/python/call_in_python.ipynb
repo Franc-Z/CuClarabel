{
 "cells": [
  {
   "cell_type": "code",
   "execution_count": 40,
   "metadata": {},
   "outputs": [],
   "source": [
    "from juliacall import Main as jl\n",
    "import numpy as np\n",
    "import cupy as cp\n",
    "from cupyx.scipy.sparse import csr_matrix\n",
    "# Load Clarabel in Julia\n",
    "jl.seval('using Clarabel, LinearAlgebra, SparseArrays')\n",
    "jl.seval('using CUDA, CUDA.CUSPARSE')"
   ]
  },
  {
   "cell_type": "markdown",
   "metadata": {},
   "source": [
    "# Example: Solve a simple second-order cone programming (SOCP) problem"
   ]
  },
  {
   "cell_type": "code",
   "execution_count": 41,
   "metadata": {},
   "outputs": [
    {
     "name": "stdout",
     "output_type": "stream",
     "text": [
      "-------------------------------------------------------------\n",
      "           Clarabel.jl v0.10.0  -  Clever Acronym              \n",
      "                   (c) Paul Goulart                          \n",
      "                University of Oxford, 2022                   \n",
      "-------------------------------------------------------------\n",
      "\n",
      "problem:\n",
      "  variables     = 3\n",
      "  constraints   = 4\n",
      "  nnz(P)        = 5\n",
      "  nnz(A)        = 4\n",
      "  cones (total) = 2\n",
      "    : Zero        = 1,  numel = 1\n",
      "    : SecondOrder = 1,  numel = 3\n",
      "\n",
      "settings:\n",
      "  linear algebra: direct / cudss, precision: Float64\n",
      "  max iter = 200, time limit = Inf,  max step = 0.990\n",
      "  tol_feas = 1.0e-08, tol_gap_abs = 1.0e-08, tol_gap_rel = 1.0e-08,\n",
      "  static reg : on, ϵ1 = 1.0e-08, ϵ2 = 4.9e-32\n",
      "  dynamic reg: on, ϵ = 1.0e-13, δ = 2.0e-07\n",
      "  iter refine: on, reltol = 1.0e-12, abstol = 1.0e-12, \n",
      "               max iter = 10, stop ratio = 5.0\n",
      "  equilibrate: on, min_scale = 1.0e-04, max_scale = 1.0e+04\n",
      "               max iter = 10\n",
      "\n",
      "iter    pcost        dcost       gap       pres      dres      k/t        μ       step      \n",
      "---------------------------------------------------------------------------------------------\n",
      "  0   8.1242e-01   2.9347e+00  2.12e+00  1.47e-16  6.02e-01  1.00e+00  1.39e+00   ------   \n",
      "  1   7.5737e-01   7.9652e-01  3.92e-02  7.07e-17  3.79e-02  4.87e-02  8.03e-02  9.62e-01  \n",
      "  2   7.5007e-01   7.4199e-01  8.08e-03  3.21e-16  4.08e-04  4.02e-03  5.89e-03  9.90e-01  \n",
      "  3   7.5000e-01   7.4982e-01  1.77e-04  3.19e-16  4.10e-06  8.02e-05  1.15e-04  9.90e-01  \n",
      "  4   7.5000e-01   7.5000e-01  1.81e-06  3.75e-16  4.10e-08  8.19e-07  1.17e-06  9.90e-01  \n",
      "  5   7.5000e-01   7.5000e-01  1.81e-08  9.86e-15  4.10e-10  8.19e-09  1.17e-08  9.90e-01  \n",
      "  6   7.5000e-01   7.5000e-01  1.81e-10  5.64e-16  4.10e-12  8.19e-11  1.17e-10  9.90e-01  \n",
      "---------------------------------------------------------------------------------------------\n",
      "Terminated with status = solved\n",
      "solve time = 32.7ms\n"
     ]
    },
    {
     "data": {
      "text/plain": [
       ">>> Clarabel - Results\n",
       "Status: SOLVED\n",
       "Iterations: 6\n",
       "Objective: 0.7500\n",
       "Solve time: 32.7ms\n"
      ]
     },
     "execution_count": 41,
     "metadata": {},
     "output_type": "execute_result"
    }
   ],
   "source": [
    "jl.seval('''\n",
    "    P = CuSparseMatrixCSR(sparse([2.0 1.0 0.0;\n",
    "                1.0 2.0 0.0;\n",
    "                0.0 0.0 2.0]))\n",
    "    q = CuVector([0, -1., -1])\n",
    "    A = CuSparseMatrixCSR(SparseMatrixCSC([1. 0 0; -1 0 0; 0 -1 0; 0 0 -1]))\n",
    "    b = CuVector([1, 0., 0., 0.])\n",
    "\n",
    "    # 0-cone dimension 1, one second-order-cone of dimension 3\n",
    "    cones = Dict(\"f\" => 1, \"q\"=> [3])\n",
    "\n",
    "    settings = Clarabel.Settings(direct_solve_method = :cudss)\n",
    "                                    \n",
    "    solver   = Clarabel.Solver(P,q,A,b,cones, settings)\n",
    "    Clarabel.solve!(solver)\n",
    "    \n",
    "    # Extract solution\n",
    "    x = solver.solution\n",
    "''')\n",
    "\n"
   ]
  },
  {
   "cell_type": "markdown",
   "metadata": {},
   "source": [
    "# Reoptimization"
   ]
  },
  {
   "cell_type": "code",
   "execution_count": 42,
   "metadata": {},
   "outputs": [
    {
     "name": "stdout",
     "output_type": "stream",
     "text": [
      "-------------------------------------------------------------\n",
      "           Clarabel.jl v0.10.0  -  Clever Acronym              \n",
      "                   (c) Paul Goulart                          \n",
      "                University of Oxford, 2022                   \n",
      "-------------------------------------------------------------\n",
      "\n",
      "problem:\n",
      "  variables     = 3\n",
      "  constraints   = 4\n",
      "  nnz(P)        = 5\n",
      "  nnz(A)        = 4\n",
      "  cones (total) = 2\n",
      "    : Zero        = 1,  numel = 1\n",
      "    : SecondOrder = 1,  numel = 3\n",
      "\n",
      "settings:\n",
      "  linear algebra: direct / cudss, precision: Float64\n",
      "  max iter = 200, time limit = Inf,  max step = 0.990\n",
      "  tol_feas = 1.0e-08, tol_gap_abs = 1.0e-08, tol_gap_rel = 1.0e-08,\n",
      "  static reg : on, ϵ1 = 1.0e-08, ϵ2 = 4.9e-32\n",
      "  dynamic reg: on, ϵ = 1.0e-13, δ = 2.0e-07\n",
      "  iter refine: on, reltol = 1.0e-12, abstol = 1.0e-12, \n",
      "               max iter = 10, stop ratio = 5.0\n",
      "  equilibrate: on, min_scale = 1.0e-04, max_scale = 1.0e+04\n",
      "               max iter = 10\n",
      "\n",
      "iter    pcost        dcost       gap       pres      dres      k/t        μ       step      \n",
      "---------------------------------------------------------------------------------------------\n",
      "  0   6.6377e+00   1.6932e+01  1.55e+00  2.85e-16  5.91e-01  1.00e+00  4.42e+00   ------   \n",
      "  1   5.6713e+00   5.0140e+00  1.31e-01  1.21e-16  1.48e-02  7.86e-02  4.46e-01  9.90e-01  \n",
      "  2   5.5128e+00   5.3393e+00  3.25e-02  5.83e-16  1.77e-04  1.70e-02  6.06e-02  9.90e-01  \n",
      "  3   5.5002e+00   5.4807e+00  3.56e-03  4.30e-16  1.91e-06  1.98e-03  5.52e-03  9.90e-01  \n",
      "  4   5.5000e+00   5.4994e+00  1.01e-04  2.43e-15  1.94e-08  5.69e-05  1.52e-04  9.90e-01  \n",
      "  5   5.5000e+00   5.5000e+00  1.07e-06  1.70e-15  1.94e-10  6.02e-07  1.60e-06  9.90e-01  \n",
      "  6   5.5000e+00   5.5000e+00  1.07e-08  9.06e-15  1.94e-12  6.03e-09  1.60e-08  9.90e-01  \n",
      "  7   5.5000e+00   5.5000e+00  1.07e-10  3.17e-16  1.96e-14  6.03e-11  1.60e-10  9.90e-01  \n",
      "---------------------------------------------------------------------------------------------\n",
      "Terminated with status = solved\n",
      "solve time = 33.3ms\n"
     ]
    },
    {
     "data": {
      "text/plain": [
       ">>> Clarabel - Results\n",
       "Status: SOLVED\n",
       "Iterations: 7\n",
       "Objective: 5.500\n",
       "Solve time: 33.3ms\n"
      ]
     },
     "execution_count": 42,
     "metadata": {},
     "output_type": "execute_result"
    }
   ],
   "source": [
    "# Update b vector\n",
    "bpy = cp.array([2.0, 1.0, 1.0, 1.0], dtype=cp.float64)\n",
    "bjl = jl.Clarabel.cupy_to_cuvector(jl.Float64, int(bpy.data.ptr), bpy.size)\n",
    "\n",
    "# \"_b\" is the replacement of \"!\" in julia function\n",
    "jl.Clarabel.update_b_b(jl.solver,bjl)          #Clarabel.update_b!()\n",
    "\n",
    "# Update P matrix\n",
    "# Define a new CSR sparse matrix on GPU\n",
    "Ppy = csr_matrix(cp.array([\n",
    "    [3.0, 0.5, 0.0],\n",
    "    [0.5, 2.0, 0.0],\n",
    "    [0.0, 0.0, 1.0]\n",
    "], dtype=cp.float64))\n",
    "\n",
    "# Extract the pointers (as integers)\n",
    "data_ptr    = int(Ppy.data.data.ptr)\n",
    "indices_ptr = int(Ppy.indices.data.ptr)\n",
    "indptr_ptr  = int(Ppy.indptr.data.ptr)\n",
    "\n",
    "# Get matrix shape and non-zero count\n",
    "n_rows, n_cols = Ppy.shape\n",
    "nnz = Ppy.nnz\n",
    "\n",
    "jl.Pjl = jl.Clarabel.cupy_to_cucsrmat(jl.Float64, data_ptr, indices_ptr, indptr_ptr, n_rows, n_cols, nnz)\n",
    "\n",
    "jl.Clarabel.update_P_b(jl.solver, jl.Pjl)          #Clarabel.update_P!()\n",
    "\n",
    "#Solve the new problem without creating memory\n",
    "jl.Clarabel.solve_b(jl.solver)                  #Clarabel.solve!()"
   ]
  },
  {
   "cell_type": "code",
   "execution_count": 43,
   "metadata": {},
   "outputs": [
    {
     "name": "stdout",
     "output_type": "stream",
     "text": [
      "Solution: [ 2.00000000e+00 -1.52972138e-10  9.99999999e-01]\n"
     ]
    }
   ],
   "source": [
    "# Retrieve the solution from Julia to Python\n",
    "solution = np.array(jl.solver.solution.x)\n",
    "print(\"Solution:\", solution)"
   ]
  }
 ],
 "metadata": {
  "kernelspec": {
   "display_name": "Python 3",
   "language": "python",
   "name": "python3"
  },
  "language_info": {
   "codemirror_mode": {
    "name": "ipython",
    "version": 3
   },
   "file_extension": ".py",
   "mimetype": "text/x-python",
   "name": "python",
   "nbconvert_exporter": "python",
   "pygments_lexer": "ipython3",
   "version": "3.12.3"
  }
 },
 "nbformat": 4,
 "nbformat_minor": 2
}
