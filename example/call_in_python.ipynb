{
 "cells": [
  {
   "cell_type": "code",
   "execution_count": 11,
   "metadata": {},
   "outputs": [],
   "source": [
    "from juliacall import Main as jl\n",
    "import numpy as np\n",
    "# Load Clarabel in Julia\n",
    "jl.seval('using Clarabel, LinearAlgebra, SparseArrays')\n",
    "jl.seval('using CUDA, CUDA.CUSPARSE')"
   ]
  },
  {
   "cell_type": "markdown",
   "metadata": {},
   "source": [
    "# Example: Solve a simple second-order cone programming (SOCP) problem"
   ]
  },
  {
   "cell_type": "code",
   "execution_count": 12,
   "metadata": {},
   "outputs": [
    {
     "name": "stdout",
     "output_type": "stream",
     "text": [
      "-------------------------------------------------------------\n",
      "           Clarabel.jl v0.10.0  -  Clever Acronym              \n",
      "                   (c) Paul Goulart                          \n",
      "                University of Oxford, 2022                   \n",
      "-------------------------------------------------------------\n",
      "\n",
      "problem:\n",
      "  variables     = 3\n",
      "  constraints   = 4\n",
      "  nnz(P)        = 0\n",
      "  nnz(A)        = 4\n",
      "  cones (total) = 2\n",
      "    : Zero        = 1,  numel = 1\n",
      "    : SecondOrder = 1,  numel = 3\n",
      "\n",
      "settings:\n",
      "  linear algebra: direct / cudss, precision: Float64\n",
      "  max iter = 200, time limit = Inf,  max step = 0.990\n",
      "  tol_feas = 1.0e-08, tol_gap_abs = 1.0e-08, tol_gap_rel = 1.0e-08,\n",
      "  static reg : on, ϵ1 = 1.0e-08, ϵ2 = 4.9e-32\n",
      "  dynamic reg: on, ϵ = 1.0e-13, δ = 2.0e-07\n",
      "  iter refine: on, reltol = 1.0e-12, abstol = 1.0e-12, \n",
      "               max iter = 10, stop ratio = 5.0\n",
      "  equilibrate: on, min_scale = 1.0e-04, max_scale = 1.0e+04\n",
      "               max iter = 10\n",
      "\n",
      "iter    pcost        dcost       gap       pres      dres      k/t        μ       step      \n",
      "---------------------------------------------------------------------------------------------\n",
      "  0   0.0000e+00  -0.0000e+00  0.00e+00  0.00e+00  5.03e-01  1.00e+00  1.71e+00   ------   \n",
      "  1  -1.0028e+00  -9.7231e-01  3.05e-02  1.16e-16  1.01e-01  2.18e-01  3.20e-01  8.56e-01  \n",
      "  2  -1.4100e+00  -1.4093e+00  5.00e-04  5.03e-17  1.21e-03  3.14e-03  4.16e-03  9.90e-01  \n",
      "  3  -1.4142e+00  -1.4142e+00  4.98e-06  5.80e-17  1.21e-05  3.14e-05  4.16e-05  9.90e-01  \n",
      "  4  -1.4142e+00  -1.4142e+00  4.98e-08  2.39e-13  1.21e-07  3.14e-07  4.16e-07  9.90e-01  \n",
      "  5  -1.4142e+00  -1.4142e+00  4.98e-10  3.78e-15  1.21e-09  3.14e-09  4.16e-09  9.90e-01  \n",
      "---------------------------------------------------------------------------------------------\n",
      "Terminated with status = solved\n",
      "solve time = 32.2ms\n"
     ]
    },
    {
     "data": {
      "text/plain": [
       ">>> Clarabel - Results\n",
       "Status: SOLVED\n",
       "Iterations: 5\n",
       "Objective: -1.414\n",
       "Solve time: 32.2ms\n"
      ]
     },
     "execution_count": 12,
     "metadata": {},
     "output_type": "execute_result"
    }
   ],
   "source": [
    "jl.seval('''\n",
    "    P = spzeros(3,3)\n",
    "    q = [0, -1., -1]\n",
    "    A = SparseMatrixCSC([1. 0 0; -1 0 0; 0 -1 0; 0 0 -1])\n",
    "    b = [1, 0., 0., 0.]\n",
    "\n",
    "    # 0-cone dimension 1, one second-order-cone of dimension 3\n",
    "    cones = Dict(\"f\" => 1, \"q\"=> [3])\n",
    "\n",
    "    settings = Clarabel.Settings(direct_solve_method = :cudss)\n",
    "                                    \n",
    "    solver   = Clarabel.Solver(P,q,A,b,cones, settings)\n",
    "    Clarabel.solve!(solver)\n",
    "    \n",
    "    # Extract solution\n",
    "    x = solver.solution\n",
    "''')\n",
    "\n"
   ]
  },
  {
   "cell_type": "code",
   "execution_count": 13,
   "metadata": {},
   "outputs": [
    {
     "name": "stdout",
     "output_type": "stream",
     "text": [
      "-------------------------------------------------------------\n",
      "           Clarabel.jl v0.10.0  -  Clever Acronym              \n",
      "                   (c) Paul Goulart                          \n",
      "                University of Oxford, 2022                   \n",
      "-------------------------------------------------------------\n",
      "\n",
      "problem:\n",
      "  variables     = 3\n",
      "  constraints   = 4\n",
      "  nnz(P)        = 0\n",
      "  nnz(A)        = 4\n",
      "  cones (total) = 2\n",
      "    : Zero        = 1,  numel = 1\n",
      "    : SecondOrder = 1,  numel = 3\n",
      "\n",
      "settings:\n",
      "  linear algebra: direct / cudss, precision: Float64\n",
      "  max iter = 200, time limit = Inf,  max step = 0.990\n",
      "  tol_feas = 1.0e-08, tol_gap_abs = 1.0e-08, tol_gap_rel = 1.0e-08,\n",
      "  static reg : on, ϵ1 = 1.0e-08, ϵ2 = 4.9e-32\n",
      "  dynamic reg: on, ϵ = 1.0e-13, δ = 2.0e-07\n",
      "  iter refine: on, reltol = 1.0e-12, abstol = 1.0e-12, \n",
      "               max iter = 10, stop ratio = 5.0\n",
      "  equilibrate: on, min_scale = 1.0e-04, max_scale = 1.0e+04\n",
      "               max iter = 10\n",
      "\n",
      "iter    pcost        dcost       gap       pres      dres      k/t        μ       step      \n",
      "---------------------------------------------------------------------------------------------\n",
      "  0   2.0000e+00  -4.1421e-01  2.41e+00  2.46e-16  3.86e-01  1.00e+00  4.12e+00   ------   \n",
      "  1  -9.6539e-01  -1.3126e+00  3.47e-01  8.57e-17  9.00e-02  3.32e-01  8.19e-01  8.44e-01  \n",
      "  2  -2.2296e+00  -2.2326e+00  1.35e-03  7.58e-17  1.07e-03  6.05e-03  1.09e-02  9.90e-01  \n",
      "  3  -2.2425e+00  -2.2425e+00  1.34e-05  5.05e-17  1.07e-05  6.05e-05  1.09e-04  9.90e-01  \n",
      "  4  -2.2426e+00  -2.2426e+00  1.34e-07  1.16e-13  1.07e-07  6.05e-07  1.09e-06  9.90e-01  \n",
      "  5  -2.2426e+00  -2.2426e+00  1.34e-09  2.72e-15  1.07e-09  6.05e-09  1.09e-08  9.90e-01  \n",
      "---------------------------------------------------------------------------------------------\n",
      "Terminated with status = solved\n",
      "solve time = 57.7ms\n"
     ]
    },
    {
     "data": {
      "text/plain": [
       ">>> Clarabel - Results\n",
       "Status: SOLVED\n",
       "Iterations: 5\n",
       "Objective: -2.243\n",
       "Solve time: 57.7ms\n"
      ]
     },
     "execution_count": 13,
     "metadata": {},
     "output_type": "execute_result"
    }
   ],
   "source": [
    "b_new = np.array([2.0, 1.0, 1.0, 1.0], dtype=np.float64)\n",
    "jl.seval('b_gpu = CuVector{Float64,CUDA.UnifiedMemory}(b)')     #create a vector b_gpu that utilizes unified memory\n",
    "jl.copyto_b(jl.b_gpu, b_new)                                    #directly copy a cpu vector b_new to a gpu vector b_gpu with unified memory\n",
    "\n",
    "#############################################\n",
    "# jl.seval('''\n",
    "#     Clarabel.update_b!(solver,b)\n",
    "#     Clarabel.solve!(solver)\n",
    "# ''')\n",
    "#############################################\n",
    "\n",
    "# \"_b\" is the replacement of \"!\" in julia function\n",
    "jl.Clarabel.update_b_b(jl.solver,jl.b_gpu)          #Clarabel.update_b!()\n",
    "jl.Clarabel.solve_b(jl.solver)                  #Clarabel.solve!()"
   ]
  },
  {
   "cell_type": "code",
   "execution_count": 14,
   "metadata": {},
   "outputs": [
    {
     "name": "stdout",
     "output_type": "stream",
     "text": [
      "Solution: [2.         1.12132034 1.12132034]\n"
     ]
    }
   ],
   "source": [
    "# Retrieve the solution from Julia to Python\n",
    "solution = np.array(jl.solver.solution.x)\n",
    "print(\"Solution:\", solution)"
   ]
  },
  {
   "cell_type": "code",
   "execution_count": 15,
   "metadata": {},
   "outputs": [
    {
     "name": "stdout",
     "output_type": "stream",
     "text": [
      "-------------------------------------------------------------\n",
      "           Clarabel.jl v0.10.0  -  Clever Acronym              \n",
      "                   (c) Paul Goulart                          \n",
      "                University of Oxford, 2022                   \n",
      "-------------------------------------------------------------\n",
      "\n",
      "problem:\n",
      "  variables     = 3\n",
      "  constraints   = 4\n",
      "  nnz(P)        = 0\n",
      "  nnz(A)        = 4\n",
      "  cones (total) = 2\n",
      "    : Zero        = 1,  numel = 1\n",
      "    : SecondOrder = 1,  numel = 3\n",
      "\n",
      "settings:\n",
      "  linear algebra: direct / cudss, precision: Float64\n",
      "  max iter = 200, time limit = Inf,  max step = 0.990\n",
      "  tol_feas = 1.0e-08, tol_gap_abs = 1.0e-08, tol_gap_rel = 1.0e-08,\n",
      "  static reg : on, ϵ1 = 1.0e-08, ϵ2 = 4.9e-32\n",
      "  dynamic reg: on, ϵ = 1.0e-13, δ = 2.0e-07\n",
      "  iter refine: on, reltol = 1.0e-12, abstol = 1.0e-12, \n",
      "               max iter = 10, stop ratio = 5.0\n",
      "  equilibrate: on, min_scale = 1.0e-04, max_scale = 1.0e+04\n",
      "               max iter = 10\n",
      "\n",
      "iter    pcost        dcost       gap       pres      dres      k/t        μ       step      \n",
      "---------------------------------------------------------------------------------------------\n",
      "  0   0.0000e+00  -0.0000e+00  0.00e+00  0.00e+00  5.03e-01  1.00e+00  1.71e+00   ------   \n",
      "  1  -1.0028e+00  -9.7231e-01  3.05e-02  1.07e-16  1.01e-01  2.18e-01  3.20e-01  8.56e-01  \n",
      "  2  -1.4100e+00  -1.4093e+00  5.00e-04  2.90e-17  1.21e-03  3.14e-03  4.16e-03  9.90e-01  \n",
      "  3  -1.4142e+00  -1.4142e+00  4.98e-06  2.90e-17  1.21e-05  3.14e-05  4.16e-05  9.90e-01  \n",
      "  4  -1.4142e+00  -1.4142e+00  4.98e-08  1.86e-13  1.21e-07  3.14e-07  4.16e-07  9.90e-01  \n",
      "  5  -1.4142e+00  -1.4142e+00  4.98e-10  2.01e-15  1.21e-09  3.14e-09  4.16e-09  9.90e-01  \n",
      "---------------------------------------------------------------------------------------------\n",
      "Terminated with status = solved\n",
      "solve time = 54.0ms\n"
     ]
    },
    {
     "data": {
      "text/plain": [
       ">>> Clarabel - Results\n",
       "Status: SOLVED\n",
       "Iterations: 5\n",
       "Objective: -1.414\n",
       "Solve time: 54.0ms\n"
      ]
     },
     "execution_count": 15,
     "metadata": {},
     "output_type": "execute_result"
    }
   ],
   "source": [
    "# Example: Solve a simple quadratic programming (QP) problem\n",
    "jl.seval('''\n",
    "    P = CuSparseMatrixCSR(spzeros(3,3))\n",
    "    q = CuVector([0, -1., -1])\n",
    "    A = CuSparseMatrixCSR(SparseMatrixCSC([1. 0 0; -1 0 0; 0 -1 0; 0 0 -1]))\n",
    "    b = CuVector([1, 0., 0., 0.])\n",
    "\n",
    "    # 0-cone dimension 1, one second-order-cone of dimension 3\n",
    "    # cones = Dict(\"f\" => 1, \"q\"=> [3])\n",
    "    cones = [Clarabel.ZeroConeT(1), Clarabel.SecondOrderConeT(3)]\n",
    "\n",
    "    settings = Clarabel.Settings(direct_solve_method = :cudss)\n",
    "                                    \n",
    "    solver   = Clarabel.Solver(P,q,A,b,cones, settings)\n",
    "    Clarabel.solve!(solver)\n",
    "    \n",
    "    # Extract solution\n",
    "    x = solver.solution\n",
    "''')"
   ]
  }
 ],
 "metadata": {
  "kernelspec": {
   "display_name": "Python 3",
   "language": "python",
   "name": "python3"
  },
  "language_info": {
   "codemirror_mode": {
    "name": "ipython",
    "version": 3
   },
   "file_extension": ".py",
   "mimetype": "text/x-python",
   "name": "python",
   "nbconvert_exporter": "python",
   "pygments_lexer": "ipython3",
   "version": "3.12.3"
  }
 },
 "nbformat": 4,
 "nbformat_minor": 2
}
